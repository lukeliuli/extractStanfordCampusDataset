{
 "cells": [
  {
   "cell_type": "code",
   "execution_count": null,
   "id": "4656a12f-ec1f-4a61-b009-c5c9302ede72",
   "metadata": {},
   "outputs": [],
   "source": [
    "#!python -m cProfile -s cumulative testExtract1.py\n",
    "!python  testExtract1_numpy.py"
   ]
  },
  {
   "cell_type": "code",
   "execution_count": null,
   "id": "c36f2be6-3a3e-48bd-a718-0f6ddbe6d340",
   "metadata": {},
   "outputs": [],
   "source": [
    "!python  testCluster1.py"
   ]
  },
  {
   "cell_type": "code",
   "execution_count": null,
   "id": "a1541aef-af62-47d5-a1ba-e5fc6ec2fecd",
   "metadata": {},
   "outputs": [],
   "source": [
    "!python  testSamplesCluster1.py"
   ]
  },
  {
   "cell_type": "code",
   "execution_count": null,
   "id": "22afb11e-4d8e-4530-8a96-0e79e0e13c8f",
   "metadata": {},
   "outputs": [],
   "source": [
    "head2 = ['frameid','trackid']\n",
    "head2.extend(list(range(10-2)))\n",
    "head2"
   ]
  },
  {
   "cell_type": "code",
   "execution_count": 38,
   "id": "e44c3d99-6eb3-488e-ab62-1e14926cff5d",
   "metadata": {},
   "outputs": [
    {
     "name": "stdout",
     "output_type": "stream",
     "text": [
      "[[10 11 12 13 14 15 16 17 18 19]\n",
      " [20 21 22 23 24 25 26 27 28 29]\n",
      " [50 51 52 53 54 55 56 57 58 59]]\n"
     ]
    },
    {
     "data": {
      "text/plain": [
       "array([[0.  , 0.  , 0.  , 0.  , 0.  , 0.  , 0.  , 0.  , 0.  , 0.  ],\n",
       "       [0.25, 0.25, 0.25, 0.25, 0.25, 0.25, 0.25, 0.25, 0.25, 0.25],\n",
       "       [1.  , 1.  , 1.  , 1.  , 1.  , 1.  , 1.  , 1.  , 1.  , 1.  ]])"
      ]
     },
     "execution_count": 38,
     "metadata": {},
     "output_type": "execute_result"
    }
   ],
   "source": [
    "import numpy as np\n",
    "from sklearn.preprocessing import scale\n",
    "from sklearn.preprocessing import MinMaxScaler\n",
    "\n",
    "a = np.arange(10,20)\n",
    "b = np.arange(20,30)\n",
    "c = np.arange(50,60)\n",
    "d = np.array([a,b,c])\n",
    "print(d)\n",
    "my_minmax_scaler = MinMaxScaler(feature_range=(0, 1))\n",
    "e = my_minmax_scaler.fit_transform(d)\n",
    "e"
   ]
  },
  {
   "cell_type": "code",
   "execution_count": null,
   "id": "07e18291-be19-438c-921c-c0b40023631c",
   "metadata": {},
   "outputs": [],
   "source": []
  }
 ],
 "metadata": {
  "kernelspec": {
   "display_name": "tensor23py36gpu",
   "language": "python",
   "name": "tensor23py36gpu"
  },
  "language_info": {
   "codemirror_mode": {
    "name": "ipython",
    "version": 3
   },
   "file_extension": ".py",
   "mimetype": "text/x-python",
   "name": "python",
   "nbconvert_exporter": "python",
   "pygments_lexer": "ipython3",
   "version": "3.6.15"
  }
 },
 "nbformat": 4,
 "nbformat_minor": 5
}
